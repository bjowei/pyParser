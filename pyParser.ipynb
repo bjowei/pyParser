{
 "cells": [
  {
   "cell_type": "markdown",
   "metadata": {},
   "source": [
    "# Python webpage parser - DigDirCamp 2020\n",
    "\n",
    "Datasett generert 9 Juli 2020. \n",
    "\n",
    "Denne notebooken parser nettsidene til politiet for å lage eit datasett over lensmannskontor i Norge. Dette datasettet er dermed kun oppdatert pr 9 Juli 2020 og koden fungerer slik nettsidene til politiet såg ut den 9 Juli 2020."
   ]
  },
  {
   "cell_type": "markdown",
   "metadata": {},
   "source": [
    "## Import"
   ]
  },
  {
   "cell_type": "code",
   "execution_count": null,
   "metadata": {},
   "outputs": [],
   "source": [
    "from lxml import html\n",
    "import requests\n",
    "import re\n",
    "import pandas as pd\n",
    "import numpy as np"
   ]
  },
  {
   "cell_type": "markdown",
   "metadata": {},
   "source": [
    "## Globale variabler"
   ]
  },
  {
   "cell_type": "code",
   "execution_count": null,
   "metadata": {},
   "outputs": [],
   "source": [
    "lat = []\n",
    "lng = []\n",
    "titl = []\n",
    "stations = []\n",
    "coordinates = []\n",
    "site = []\n",
    "pages = ['https://www.politiet.no/om/organisasjonen/politidistrikter/vest/',\n",
    "         'https://www.politiet.no/om/organisasjonen/politidistrikter/ost/',\n",
    "         'https://www.politiet.no/om/organisasjonen/politidistrikter/agder/',\n",
    "         'https://www.politiet.no/om/organisasjonen/politidistrikter/finnmark/',\n",
    "         'https://www.politiet.no/om/organisasjonen/politidistrikter/innlandet/',\n",
    "         'https://www.politiet.no/om/organisasjonen/politidistrikter/more-og-romsdal/',\n",
    "         'https://www.politiet.no/om/organisasjonen/politidistrikter/nordland/',\n",
    "         'https://www.politiet.no/om/organisasjonen/politidistrikter/oslo/',\n",
    "         'https://www.politiet.no/om/organisasjonen/politidistrikter/sor-vest/',\n",
    "         'https://www.politiet.no/om/organisasjonen/politidistrikter/sor-ost/',\n",
    "         'https://www.politiet.no/om/organisasjonen/politidistrikter/troms/',\n",
    "         'https://www.politiet.no/om/organisasjonen/politidistrikter/trondelag/']"
   ]
  },
  {
   "cell_type": "markdown",
   "metadata": {},
   "source": [
    "## Hent ut stasjonnavn, koordinater og link til nettside for alle politidistrikt"
   ]
  },
  {
   "cell_type": "code",
   "execution_count": null,
   "metadata": {},
   "outputs": [],
   "source": [
    "for page in pages:\n",
    "    website = requests.get(page)\n",
    "    tree = html.fromstring(website.content)\n",
    "    stations = np.append(stations, tree.xpath('/html/body/main/article/section/div[3]/ol/li/h3/a/text()'))\n",
    "    coordinates = np.append(coordinates, tree.xpath('/html/body/main/article/section/div[3]/ol/li/div/a/@href'))\n",
    "    site = np.append(site, tree.xpath('/html/body/main/article/section/div[3]/ol/li/h3/a/@href'))"
   ]
  },
  {
   "cell_type": "markdown",
   "metadata": {},
   "source": [
    "## Konverter google maps link til flyttall + legg til tittelfelt for drupal"
   ]
  },
  {
   "cell_type": "code",
   "execution_count": null,
   "metadata": {},
   "outputs": [],
   "source": [
    "for i in range(len(coordinates)):\n",
    "    titl.append(\"Node \" + str(i))\n",
    "    result = re.findall(r\"[-+]?\\d*\\.\\d+|\\d+\", coordinates[i])\n",
    "    lng.append(float(result[0]))\n",
    "    lat.append(float(result[1]))"
   ]
  },
  {
   "cell_type": "markdown",
   "metadata": {},
   "source": [
    "## Opprett dataframe"
   ]
  },
  {
   "cell_type": "code",
   "execution_count": null,
   "metadata": {},
   "outputs": [],
   "source": [
    "d = {'title' : titl, 'field_stasjon': stations, 'field_politi_webside' : site, 'field_politi_lengdegrad': lat, 'field_politi_breddegrad' : lng}\n",
    "df = pd.DataFrame(data=d)\n",
    "df['field_politi_webside'] = 'https://www.politiet.no' + df['field_politi_webside'].astype(str)"
   ]
  },
  {
   "cell_type": "markdown",
   "metadata": {},
   "source": [
    "## Lagre som CSV"
   ]
  },
  {
   "cell_type": "code",
   "execution_count": null,
   "metadata": {},
   "outputs": [],
   "source": [
    "df.to_csv(\"politikontor.csv\", index=False)"
   ]
  }
 ],
 "metadata": {
  "language_info": {
   "codemirror_mode": {
    "name": "ipython",
    "version": 3
   },
   "file_extension": ".py",
   "mimetype": "text/x-python",
   "name": "python",
   "nbconvert_exporter": "python",
   "pygments_lexer": "ipython3",
   "version": "3.8.3-final"
  },
  "orig_nbformat": 2,
  "kernelspec": {
   "name": "python38364bitpydigdirconda79d9abb225414d81a71086b23337a662",
   "display_name": "Python 3.8.3 64-bit ('pyDigDir': conda)"
  }
 },
 "nbformat": 4,
 "nbformat_minor": 2
}